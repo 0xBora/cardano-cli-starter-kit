{
 "cells": [
  {
   "cell_type": "markdown",
   "metadata": {},
   "source": [
    "# Cardano CLI Tutorial\n",
    "\n",
    "This interactive tutorial teaches you how to use the Cardano CLI to interact directly with a Cardano node. You'll learn to:\n",
    "- Create addresses and wallets\n",
    "- Build and submit transactions\n",
    "- Mint your own native tokens\n",
    "\n",
    "**Setup:** If you're using this starter kit through Demeter.run, the Cardano node and CLI are already set up for you - you're ready to go! Otherwise, ensure you have access to a Cardano node and the `cardano-cli` installed.\n",
    "\n",
    "**How to use this notebook:** Execute each code cell one by one (click the cell and press Shift+Enter or click the play button). Some commands query the blockchain and may take a few seconds to return results.\n",
    "\n",
    "Let's get started!"
   ]
  },
  {
   "attachments": {},
   "cell_type": "markdown",
   "metadata": {},
   "source": [
    "## Addresses / Wallet"
   ]
  },
  {
   "attachments": {},
   "cell_type": "markdown",
   "metadata": {},
   "source": [
    "### Generate keys and address\n",
    "\n",
    "Generate a payment verification key and signing key. The verification key derives your address, while the signing key proves you own that address and allows you to spend funds from it."
   ]
  },
  {
   "cell_type": "code",
   "execution_count": null,
   "metadata": {
    "vscode": {
     "languageId": "shellscript"
    }
   },
   "outputs": [],
   "source": [
    "cardano-cli address key-gen \\\n",
    "    --verification-key-file my_address.vkey \\\n",
    "    --signing-key-file my_address.skey"
   ]
  },
  {
   "attachments": {},
   "cell_type": "markdown",
   "metadata": {},
   "source": [
    "Build an address from the verification key."
   ]
  },
  {
   "cell_type": "code",
   "execution_count": null,
   "metadata": {
    "vscode": {
     "languageId": "shellscript"
    }
   },
   "outputs": [],
   "source": [
    "cardano-cli address build \\\n",
    "    --payment-verification-key-file my_address.vkey \\\n",
    "    --out-file my_address.addr \\\n",
    "    --testnet-magic $CARDANO_NODE_MAGIC"
   ]
  },
  {
   "attachments": {},
   "cell_type": "markdown",
   "metadata": {},
   "source": [
    "Save the address to a variable for easy reference."
   ]
  },
  {
   "cell_type": "code",
   "execution_count": null,
   "metadata": {
    "vscode": {
     "languageId": "shellscript"
    }
   },
   "outputs": [],
   "source": [
    "MY_ADDRESS=$(cat my_address.addr)\n",
    "\n",
    "echo \"my address is: $MY_ADDRESS\""
   ]
  },
  {
   "attachments": {},
   "cell_type": "markdown",
   "metadata": {},
   "source": [
    "### Fund the address\n",
    "\n",
    "All Cardano transactions require fees paid in ADA. Request test funds from the [testnet faucet](https://docs.cardano.org/cardano-testnet/tools/faucet).\n",
    "\n",
    "**Note:** 1 ADA = 1,000,000 lovelace. The CLI displays amounts in lovelace."
   ]
  },
  {
   "attachments": {},
   "cell_type": "markdown",
   "metadata": {},
   "source": [
    "### Query address funds\n",
    "\n",
    "Verify that your address received funds from the faucet. This shows your UTxOs (Unspent Transaction Outputs) - the spendable funds at your address."
   ]
  },
  {
   "cell_type": "code",
   "execution_count": null,
   "metadata": {
    "vscode": {
     "languageId": "shellscript"
    }
   },
   "outputs": [],
   "source": [
    "cardano-cli query utxo \\\n",
    "    --address $MY_ADDRESS \\\n",
    "    --testnet-magic $CARDANO_NODE_MAGIC"
   ]
  },
  {
   "attachments": {},
   "cell_type": "markdown",
   "metadata": {},
   "source": [
    "## Build Transactions\n",
    "\n",
    "Cardano transactions consume UTxOs (inputs) and create new UTxOs (outputs). Let's transfer ADA from one address to another."
   ]
  },
  {
   "attachments": {},
   "cell_type": "markdown",
   "metadata": {},
   "source": [
    "### Generate recipient address\n",
    "\n",
    "Create a second address to receive the ADA transfer."
   ]
  },
  {
   "cell_type": "code",
   "execution_count": null,
   "metadata": {
    "vscode": {
     "languageId": "shellscript"
    }
   },
   "outputs": [],
   "source": [
    "cardano-cli address key-gen \\\n",
    "    --verification-key-file other_address.vkey \\\n",
    "    --signing-key-file other_address.skey"
   ]
  },
  {
   "attachments": {},
   "cell_type": "markdown",
   "metadata": {},
   "source": [
    "Build the recipient address."
   ]
  },
  {
   "cell_type": "code",
   "execution_count": null,
   "metadata": {
    "vscode": {
     "languageId": "shellscript"
    }
   },
   "outputs": [],
   "source": [
    "cardano-cli address build \\\n",
    "    --payment-verification-key-file other_address.vkey \\\n",
    "    --out-file other_address.addr \\\n",
    "    --testnet-magic $CARDANO_NODE_MAGIC"
   ]
  },
  {
   "attachments": {},
   "cell_type": "markdown",
   "metadata": {},
   "source": [
    "Save the recipient address to a variable."
   ]
  },
  {
   "cell_type": "code",
   "execution_count": null,
   "metadata": {
    "vscode": {
     "languageId": "shellscript"
    }
   },
   "outputs": [],
   "source": [
    "OTHER_ADDRESS=$(cat other_address.addr)\n",
    "\n",
    "echo \"the address of the recipient is: $OTHER_ADDRESS\""
   ]
  },
  {
   "attachments": {},
   "cell_type": "markdown",
   "metadata": {},
   "source": [
    "### Build the transaction\n",
    "\n",
    "Query your address to get the UTxO that will fund this transaction. A UTxO is identified by its transaction hash (TxHash) and index (TxIx)."
   ]
  },
  {
   "cell_type": "code",
   "execution_count": null,
   "metadata": {
    "vscode": {
     "languageId": "shellscript"
    }
   },
   "outputs": [],
   "source": [
    "cardano-cli query utxo \\\n",
    "    --address $MY_ADDRESS \\\n",
    "    --testnet-magic $CARDANO_NODE_MAGIC"
   ]
  },
  {
   "cell_type": "markdown",
   "metadata": {},
   "source": [
    "Copy the **TxHash** and **TxIx** values from the executed cell output above and paste them into the next cell, replacing the placeholder strings."
   ]
  },
  {
   "attachments": {},
   "cell_type": "markdown",
   "metadata": {},
   "source": [
    "Set the transaction inputs and outputs. The `transaction build` command automatically calculates fees and balances the transaction for you."
   ]
  },
  {
   "cell_type": "code",
   "execution_count": null,
   "metadata": {
    "vscode": {
     "languageId": "shellscript"
    }
   },
   "outputs": [],
   "source": [
    "MY_TX_HASH=\"insert TxHash here\"\n",
    "MY_TX_IX=\"insert TxIx here\"\n",
    "TRANSFER_AMOUNT=\"50000000\"\n",
    "\n",
    "cardano-cli latest transaction build \\\n",
    " --testnet-magic $CARDANO_NODE_MAGIC \\\n",
    " --tx-in $MY_TX_HASH#$MY_TX_IX \\\n",
    " --tx-out $OTHER_ADDRESS+$TRANSFER_AMOUNT \\\n",
    " --change-address $MY_ADDRESS \\\n",
    " --out-file transfer.raw"
   ]
  },
  {
   "attachments": {},
   "cell_type": "markdown",
   "metadata": {},
   "source": [
    "Inspect the transaction details."
   ]
  },
  {
   "cell_type": "code",
   "execution_count": null,
   "metadata": {
    "vscode": {
     "languageId": "shellscript"
    }
   },
   "outputs": [],
   "source": [
    "cardano-cli debug transaction view --tx-file transfer.raw"
   ]
  },
  {
   "attachments": {},
   "cell_type": "markdown",
   "metadata": {},
   "source": [
    "### Sign the transaction\n",
    "\n",
    "Transactions must be cryptographically signed to prove you control the address spending the funds. This prevents unauthorized spending."
   ]
  },
  {
   "cell_type": "code",
   "execution_count": null,
   "metadata": {
    "vscode": {
     "languageId": "shellscript"
    }
   },
   "outputs": [],
   "source": [
    "cardano-cli latest transaction sign  \\\n",
    "    --signing-key-file my_address.skey  \\\n",
    "    --testnet-magic $CARDANO_NODE_MAGIC \\\n",
    "    --tx-body-file transfer.raw  \\\n",
    "    --out-file transfer.signed\n",
    "\n",
    "jq . transfer.signed"
   ]
  },
  {
   "attachments": {},
   "cell_type": "markdown",
   "metadata": {},
   "source": [
    "### Submit the transaction\n",
    "\n",
    "Submit the signed transaction to the blockchain."
   ]
  },
  {
   "cell_type": "code",
   "execution_count": null,
   "metadata": {
    "vscode": {
     "languageId": "shellscript"
    }
   },
   "outputs": [],
   "source": [
    "cardano-cli latest transaction submit \\\n",
    "    --tx-file transfer.signed \\\n",
    "    --testnet-magic $CARDANO_NODE_MAGIC"
   ]
  },
  {
   "attachments": {},
   "cell_type": "markdown",
   "metadata": {},
   "source": [
    "Verify the transfer by querying the recipient address."
   ]
  },
  {
   "cell_type": "code",
   "execution_count": null,
   "metadata": {
    "vscode": {
     "languageId": "shellscript"
    }
   },
   "outputs": [],
   "source": [
    "cardano-cli query utxo \\\n",
    "    --address $OTHER_ADDRESS \\\n",
    "    --testnet-magic $CARDANO_NODE_MAGIC"
   ]
  },
  {
   "attachments": {},
   "cell_type": "markdown",
   "metadata": {},
   "source": [
    "## Minting Native Assets"
   ]
  },
  {
   "cell_type": "markdown",
   "metadata": {},
   "source": [
    "### Create minting keys\n",
    "\n",
    "Generate keys for your minting policy. The policy defines who can mint or burn tokens - only holders of the policy keys can mint or burn tokens under this policy."
   ]
  },
  {
   "cell_type": "code",
   "execution_count": null,
   "metadata": {
    "vscode": {
     "languageId": "shellscript"
    }
   },
   "outputs": [],
   "source": [
    "cardano-cli address key-gen \\\n",
    "    --verification-key-file asset_policy.vkey \\\n",
    "    --signing-key-file asset_policy.skey"
   ]
  },
  {
   "attachments": {},
   "cell_type": "markdown",
   "metadata": {},
   "source": [
    "### Hash the key\n",
    "\n",
    "Generate the key hash needed for the policy script."
   ]
  },
  {
   "cell_type": "code",
   "execution_count": null,
   "metadata": {
    "vscode": {
     "languageId": "shellscript"
    }
   },
   "outputs": [],
   "source": [
    "POLICY_HASH=$(cardano-cli address key-hash --payment-verification-key-file asset_policy.vkey)\n",
    "\n",
    "echo \"my policy hash is $POLICY_HASH\""
   ]
  },
  {
   "attachments": {},
   "cell_type": "markdown",
   "metadata": {},
   "source": [
    "### Create a policy script\n",
    "\n",
    "The policy script defines the rules for minting/burning tokens. This simple signature policy requires a signature from the policy key to mint or burn tokens."
   ]
  },
  {
   "cell_type": "code",
   "execution_count": null,
   "metadata": {
    "vscode": {
     "languageId": "shellscript"
    }
   },
   "outputs": [],
   "source": [
    "echo \"{\\\"type\\\": \\\"sig\\\", \\\"keyHash\\\" : \\\"$POLICY_HASH\\\" }\" > policy.script\n",
    "\n",
    "jq . policy.script"
   ]
  },
  {
   "attachments": {},
   "cell_type": "markdown",
   "metadata": {},
   "source": [
    "### Compute the policy ID\n",
    "\n",
    "The policy ID uniquely identifies your token policy."
   ]
  },
  {
   "cell_type": "code",
   "execution_count": null,
   "metadata": {
    "vscode": {
     "languageId": "shellscript"
    }
   },
   "outputs": [],
   "source": [
    "POLICY_ID=$(cardano-cli latest transaction policyid --script-file policy.script)\n",
    "\n",
    "echo \"my policy id is $POLICY_ID\""
   ]
  },
  {
   "attachments": {},
   "cell_type": "markdown",
   "metadata": {},
   "source": [
    "The policy ID is saved to the `POLICY_ID` variable for use in the minting transaction."
   ]
  },
  {
   "attachments": {},
   "cell_type": "markdown",
   "metadata": {},
   "source": [
    "### Build the minting transaction\n",
    "\n",
    "Query your address to get the current UTxO."
   ]
  },
  {
   "cell_type": "code",
   "execution_count": null,
   "metadata": {
    "vscode": {
     "languageId": "shellscript"
    }
   },
   "outputs": [],
   "source": [
    "cardano-cli query utxo \\\n",
    "    --address $MY_ADDRESS \\\n",
    "    --testnet-magic $CARDANO_NODE_MAGIC"
   ]
  },
  {
   "cell_type": "markdown",
   "metadata": {},
   "source": [
    "Copy the **TxHash**, **TxIx**, and **Amount** values from the executed cell output above and paste them into the next cell, replacing the placeholder strings."
   ]
  },
  {
   "attachments": {},
   "cell_type": "markdown",
   "metadata": {},
   "source": [
    "Set the transaction variables. You'll need the TxHash, TxIx, and Amount from the UTxO query above."
   ]
  },
  {
   "cell_type": "code",
   "execution_count": null,
   "metadata": {
    "vscode": {
     "languageId": "shellscript"
    }
   },
   "outputs": [],
   "source": [
    "TX_HASH=\"insert TxHash here\"\n",
    "TX_IX=\"insert TxIx here\"\n",
    "TX_AMOUNT=\"insert Amount here\""
   ]
  },
  {
   "attachments": {},
   "cell_type": "markdown",
   "metadata": {},
   "source": [
    "Set the transaction fee. When using `build-raw`, fees must be specified manually. We'll set an arbitrarily high fee which will easily cover the minimum transaction cost."
   ]
  },
  {
   "cell_type": "code",
   "execution_count": null,
   "metadata": {
    "vscode": {
     "languageId": "shellscript"
    }
   },
   "outputs": [],
   "source": [
    "FEE=200000"
   ]
  },
  {
   "attachments": {},
   "cell_type": "markdown",
   "metadata": {},
   "source": [
    "Calculate the remaining balance after fees. The transaction must be balanced - inputs must equal outputs plus fees."
   ]
  },
  {
   "cell_type": "code",
   "execution_count": null,
   "metadata": {
    "vscode": {
     "languageId": "shellscript"
    }
   },
   "outputs": [],
   "source": [
    "let REMAINING=$TX_AMOUNT-$FEE"
   ]
  },
  {
   "attachments": {},
   "cell_type": "markdown",
   "metadata": {},
   "source": [
    "Build the minting transaction. This transaction includes a `--mint` flag that creates new tokens and adds them to your address.\n",
    "\n",
    "**Note:** The `TOKEN_NAME` must be hex-encoded. The value \"54657374746f6b656E\" is the hex encoding of \"Testtoken\"."
   ]
  },
  {
   "cell_type": "code",
   "execution_count": null,
   "metadata": {
    "vscode": {
     "languageId": "shellscript"
    }
   },
   "outputs": [],
   "source": [
    "TOKEN_NAME=\"54657374746F6B656E\"\n",
    "TOKEN_AMOUNT=\"10000000\"\n",
    "\n",
    "cardano-cli latest transaction build-raw \\\n",
    " --fee $FEE \\\n",
    " --tx-in $TX_HASH#$TX_IX \\\n",
    " --tx-out $MY_ADDRESS+$REMAINING+\"$TOKEN_AMOUNT $POLICY_ID.$TOKEN_NAME\" \\\n",
    " --mint \"$TOKEN_AMOUNT $POLICY_ID.$TOKEN_NAME\" \\\n",
    " --minting-script-file policy.script \\\n",
    " --out-file mint.raw"
   ]
  },
  {
   "cell_type": "code",
   "execution_count": null,
   "metadata": {
    "vscode": {
     "languageId": "shellscript"
    }
   },
   "outputs": [],
   "source": [
    "cardano-cli debug transaction view --tx-body-file mint.raw"
   ]
  },
  {
   "attachments": {},
   "cell_type": "markdown",
   "metadata": {},
   "source": [
    "### Sign the transaction\n",
    "\n",
    "Minting requires two signatures: your address key (to spend the UTxO) and the policy key (to authorize minting)."
   ]
  },
  {
   "cell_type": "code",
   "execution_count": null,
   "metadata": {
    "vscode": {
     "languageId": "shellscript"
    }
   },
   "outputs": [],
   "source": [
    "cardano-cli latest transaction sign  \\\n",
    "    --signing-key-file my_address.skey  \\\n",
    "    --signing-key-file asset_policy.skey  \\\n",
    "    --testnet-magic $CARDANO_NODE_MAGIC \\\n",
    "    --tx-body-file mint.raw  \\\n",
    "    --out-file mint.signed"
   ]
  },
  {
   "attachments": {},
   "cell_type": "markdown",
   "metadata": {},
   "source": [
    "### Submit the transaction\n",
    "\n",
    "Submit the transaction to mint your tokens."
   ]
  },
  {
   "cell_type": "code",
   "execution_count": null,
   "metadata": {
    "vscode": {
     "languageId": "shellscript"
    }
   },
   "outputs": [],
   "source": [
    "cardano-cli latest transaction submit \\\n",
    "    --tx-file mint.signed \\\n",
    "    --testnet-magic $CARDANO_NODE_MAGIC"
   ]
  },
  {
   "attachments": {},
   "cell_type": "markdown",
   "metadata": {},
   "source": [
    "Verify your new tokens by querying your address."
   ]
  },
  {
   "cell_type": "code",
   "execution_count": null,
   "metadata": {
    "vscode": {
     "languageId": "shellscript"
    }
   },
   "outputs": [],
   "source": [
    "cardano-cli query utxo --address $MY_ADDRESS --testnet-magic $CARDANO_NODE_MAGIC"
   ]
  },
  {
   "attachments": {},
   "cell_type": "markdown",
   "metadata": {},
   "source": [
    "Your address should now hold the newly minted tokens.\n",
    "\n",
    "**Reading the output:**\n",
    "- **Lovelace**: Your remaining ADA balance\n",
    "- **Token amount + policy.tokenName**: Your minted tokens in the format `{amount} {policyId}.{hexTokenName}`\n",
    "- For example: `10000000 c7fd...eb18.54657374746f6b656e` means you have 10,000,000 units of your token\n",
    "\n",
    "The long hex string (`c7fd...`) is your policy ID, and `54657374746f6b656e` is the hex-encoded token name (\"Testtoken\")."
   ]
  }
 ],
 "metadata": {
  "kernelspec": {
   "display_name": "Bash",
   "language": "bash",
   "name": "bash"
  },
  "language_info": {
   "codemirror_mode": "shell",
   "file_extension": ".sh",
   "mimetype": "text/x-sh",
   "name": "bash"
  },
  "orig_nbformat": 4
 },
 "nbformat": 4,
 "nbformat_minor": 2
}
